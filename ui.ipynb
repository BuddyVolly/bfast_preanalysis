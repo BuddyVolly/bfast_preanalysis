{
 "cells": [
  {
   "cell_type": "code",
   "execution_count": null,
   "metadata": {},
   "outputs": [],
   "source": [
    "# !!! testing purpose !!!\n",
    "# this cell is for testing the translation component \n",
    "# try uncomment the 2 following line to see the fr translation of the module\n",
    "#import os\n",
    "#os.environ[\"CUSTOM_LANGUAGE\"] = \"fr\""
   ]
  },
  {
   "cell_type": "code",
   "execution_count": null,
   "metadata": {},
   "outputs": [],
   "source": [
    "from sepal_ui import sepalwidgets as sw\n",
    "from component.message import ms"
   ]
  },
  {
   "cell_type": "code",
   "execution_count": null,
   "metadata": {},
   "outputs": [],
   "source": [
    "# Create an appBar\n",
    "fao_appBar = sw.AppBar(ms.app.title)"
   ]
  },
  {
   "cell_type": "code",
   "execution_count": null,
   "metadata": {},
   "outputs": [],
   "source": [
    "# Create a footer\n",
    "# the footer will be display in the bottom of the page \n",
    "# it's not a mandatory feature \n",
    "fao_footer = sw.Footer(ms.app.footer.format(2020))"
   ]
  },
  {
   "cell_type": "code",
   "execution_count": null,
   "metadata": {},
   "outputs": [],
   "source": [
    "# load the patial files\n",
    "%run 'aoi_ui.ipynb'\n",
    "%run 'process_ui.ipynb'\n",
    "%run 'about_ui.ipynb'\n",
    "\n",
    "# Gather all the partial tiles that you created previously\n",
    "fao_content = [fao_aoi, fao_process, fao_visualization, fao_about, fao_disclaimer] #fao_export"
   ]
  },
  {
   "cell_type": "code",
   "execution_count": null,
   "metadata": {},
   "outputs": [],
   "source": [
    "# create a drawer for each group of tile \n",
    "# use the DrawerItem widget from sepalwidget (name_of_drawer, icon, the id of the widgets you want to display)\n",
    "# use the display_tile() method to link the times with the drawer items\n",
    "item_aoi = sw.DrawerItem(ms.app.drawer_item.aoi, 'mdi-map-marker-check', card=\"aoi_widget\").display_tile(fao_content)\n",
    "item_tile = sw.DrawerItem(ms.app.drawer_item.process, 'mdi-cogs', card=\"selection_widget\").display_tile(fao_content)\n",
    "item_visualization= sw.DrawerItem(ms.app.drawer_item.visualization, 'mdi-map', card=\"visualization_widget\").display_tile(fao_content)\n",
    "#item_export = sw.DrawerItem(ms.app.drawer_item.export, 'mdi-export', card=\"export_widget\").display_tile(fao_content)\n",
    "item_about = sw.DrawerItem(ms.app.drawer_item.about, 'mdi-help-circle', card=\"about_widget\").display_tile(fao_content)\n",
    "\n",
    "# !!! not mandatory !!! \n",
    "# Add the links to the code, wiki and issue tracker of your \n",
    "code_link = 'https://github.com/lecrabe/alos_mosaics'\n",
    "wiki_link = 'https://github.com/lecrabe/alos_mosaics/wiki'\n",
    "issue_link = 'https://github.com/lecrabe/alos_mosaics/issues'\n",
    "\n",
    "# Gather all the draweritems in a list \n",
    "items = [item_aoi, item_tile, item_visualization,  item_about] #item_export,\n",
    "\n",
    "# Create the side drawer with all its components \n",
    "# The display_drawer() method link the drawer with the app bar\n",
    "fao_drawer = sw.NavDrawer(\n",
    "    items = items, \n",
    "    code = code_link, \n",
    "    wiki = wiki_link, \n",
    "    issue = issue_link\n",
    ").display_drawer(fao_appBar.toggle_button)\n"
   ]
  },
  {
   "cell_type": "code",
   "execution_count": null,
   "metadata": {},
   "outputs": [],
   "source": [
    "# build the Html final app by gathering everything \n",
    "fao_app = sw.App(\n",
    "    tiles    = fao_content, \n",
    "    appBar   = fao_appBar, \n",
    "    footer   = fao_footer, \n",
    "    navDrawer= fao_drawer\n",
    ").show_tile('aoi_widget') # id of the tile you want to display\n"
   ]
  },
  {
   "cell_type": "code",
   "execution_count": null,
   "metadata": {},
   "outputs": [],
   "source": [
    "# display the app\n",
    "# this final cell will be the only one displaying something in this notebook \n",
    "# if you run all this notebook you may see elements displayed on the left side of your screen but it won't work\n",
    "# it can only be launched with voila as it's creating a full page javascript interface\n",
    "fao_app"
   ]
  },
  {
   "cell_type": "code",
   "execution_count": null,
   "metadata": {},
   "outputs": [],
   "source": []
  }
 ],
 "metadata": {
  "kernelspec": {
   "display_name": "Python 3",
   "language": "python",
   "name": "python3"
  },
  "language_info": {
   "codemirror_mode": {
    "name": "ipython",
    "version": 3
   },
   "file_extension": ".py",
   "mimetype": "text/x-python",
   "name": "python",
   "nbconvert_exporter": "python",
   "pygments_lexer": "ipython3",
   "version": "3.6.9"
  }
 },
 "nbformat": 4,
 "nbformat_minor": 4
}
